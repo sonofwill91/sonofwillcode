{
 "cells": [
  {
   "cell_type": "code",
   "execution_count": 1,
   "id": "050ed8f4",
   "metadata": {},
   "outputs": [],
   "source": [
    "import json\n",
    "import numpy as np\n",
    "import pandas as pd\n",
    "from datetime import datetime, timedelta\n",
    "import matplotlib.pyplot as plt\n",
    "from matplotlib.ticker import FormatStrFormatter\n",
    "\n",
    "\n",
    "import os\n",
    "import re"
   ]
  },
  {
   "cell_type": "code",
   "execution_count": 2,
   "id": "ef0993d1",
   "metadata": {},
   "outputs": [],
   "source": [
    "#GLOBAL CONFIG VALUES\n",
    "min_traded_volume = 10000"
   ]
  },
  {
   "cell_type": "code",
   "execution_count": 3,
   "id": "e5696d7d",
   "metadata": {},
   "outputs": [],
   "source": [
    "#Auxiliar Functions\n",
    "\n",
    "def convertLongToDateTime(utcDate):\n",
    "    return datetime.fromtimestamp(utcDate/1000)\n",
    "\n",
    "def subtract_18H(date):\n",
    "    return date - timedelta(hours=18)\n",
    "\n",
    "def convertISOToDateTime(date):\n",
    "    return datetime.fromisoformat(date[:-1]).strftime('%Y-%m-%d %H:%M:%S')\n",
    "\n",
    "def has_no_trading_volume(runner_change):\n",
    "    return runner_change['tv'] == 0.0\n",
    "\n",
    "def has_no_last_traded_price(runner_change):\n",
    "    return runner_change['ltp'] == 0.0\n",
    "\n",
    "def getMarketMetadata(data_frame):\n",
    "    top_row = df.head(n=1)\n",
    "    # The market definition is nested in mc\n",
    "    market_definition = top_row['mc'][0][0]['marketDefinition']\n",
    "    runners = market_definition['runners']\n",
    "    event_name = market_definition['eventName']\n",
    "    event_id = market_definition['eventId']\n",
    "    market_time = convertISOToDateTime(market_definition['marketTime'])\n",
    "\n",
    "    runner1 = {\"id\": runners[0]['id'], \"name\": runners[0]['name']}\n",
    "    runner2 = {\"id\": runners[1]['id'], \"name\": runners[1]['name']}\n",
    "    return (\n",
    "        runner1,\n",
    "        runner2,\n",
    "        event_name,\n",
    "        event_id,\n",
    "        market_time\n",
    "    )\n",
    "\n",
    "def parseData(df):\n",
    "    \n",
    "    df['pt'] = df['pt'].apply(convertLongToDateTime)\n",
    "\n",
    "    inPlayTime = 0\n",
    "    inPlayTimeIndex = 0\n",
    "    firstTimeInPlayFound = False\n",
    "    indices_to_delete = []\n",
    "    total_tv = 0\n",
    "    for idx, row in df.iterrows():\n",
    "        for r in row['mc']:\n",
    "            if ('marketDefinition' in r.keys() and r['marketDefinition']['inPlay'] == True):\n",
    "                if (firstTimeInPlayFound != True):\n",
    "                    inPlayTime = row['pt']\n",
    "                    inPlayTimeIndex = idx\n",
    "                    firstTimeInPlayFound = True\n",
    "            elif ('rc' in r.keys()):\n",
    "                for rc in r['rc']:\n",
    "                    if (has_no_trading_volume(rc) or has_no_last_traded_price(rc)):\n",
    "                        indices_to_delete.append(idx)\n",
    "                    elif rc['id'] == runner1['id']:\n",
    "                        df.loc[idx, f\"ltp_{runner1['name']}\"] = rc['ltp']\n",
    "                        df.loc[idx, f\"tv_{runner1['name']}\"] = rc['tv']\n",
    "                        total_tv += rc['tv']\n",
    "                    elif rc['id'] == runner2['id']:\n",
    "                        df.loc[idx, f\"ltp_{runner2['name']}\"] = rc['ltp']\n",
    "                        df.loc[idx, f\"tv_{runner2['name']}\"] = rc['tv']\n",
    "                        total_tv += rc['tv']\n",
    "                        \n",
    "    \n",
    "    df.drop(['op', 'clk', 'mc'], axis=1, inplace=True)\n",
    "    \n",
    "    indices_no_duplicates = list(set(indices_to_delete))\n",
    "    filter_indices_iterator = filter(lambda number: number < inPlayTimeIndex, indices_no_duplicates)\n",
    "    df_to_plot = df[0:inPlayTimeIndex].drop(list(filter_indices_iterator) , inplace=False, axis=0).dropna()\n",
    "    \n",
    "    if total_tv < min_traded_volume:\n",
    "        return pd.DataFrame()\n",
    "\n",
    "    return df_to_plot, inPlayTime, inPlayTimeIndex\n",
    "\n",
    "def findFavourite(df):\n",
    "    \n",
    "    columns = df.columns\n",
    "\n",
    "    favourite = ''\n",
    "    for col in columns:\n",
    "        if 'ltp' in col:\n",
    "            if favourite == '':\n",
    "                favourite = col\n",
    "            elif (df[col].min() < df[favourite].min()):\n",
    "                favourite = df[col].min()\n",
    "                \n",
    "    return favourite\n",
    "\n",
    "def getAvgTimeToVolume(df, percentage_of_volume):\n",
    "    num_of_games = df['Game_#'].unique()\n",
    "    \n",
    "    volume_breakpoints = np.array([])\n",
    "    for num in num_of_games:\n",
    "        favourite = findFavourite(df)\n",
    "        currentGame = df[df['Game_#'] == num]\n",
    "        volume_breakpoint = currentGame[favourite].max() * percentage_of_volume\n",
    "        firstDateTime = currentGame[df[favourite] > volume_breakpoint].first_valid_index()\n",
    "        lastDateTime = currentGame.last_valid_index()\n",
    "        difference = lastDateTime - firstDateTime\n",
    "        volume_breakpoints = np.insert(volume_breakpoints, difference.seconds)\n",
    "    \n",
    "    average = volume_breakpoints.mean()\n",
    "    hours, remainder = divmod(average.seconds, 3600)\n",
    "    return (hours, remainder)"
   ]
  },
  {
   "cell_type": "code",
   "execution_count": 4,
   "id": "34ca49e0",
   "metadata": {},
   "outputs": [],
   "source": [
    "import os\n",
    "\n",
    "walkDir = \"ADVANCED_test\"\n",
    "\n",
    "team_list = [\"Dominic Thiem\"]\n",
    "str_values = [\"\" for x in range(len(team_list))]\n",
    "team_paths_dict = dict(zip(team_list, str_values))\n",
    "\n",
    "game_dfs = []\n",
    "for subdir, dirs, files in os.walk(walkDir):\n",
    "    for file in files:\n",
    "        filepath = subdir + os.sep + file\n",
    "        game_event_matched = re.match(r'^([\\s\\d]+)$', file.split(\".\")[-1])\n",
    "        if bool(game_event_matched):  \n",
    "            df = pd.read_json(filepath,lines=True)\n",
    "            (runner1, runner2, event_name, event_id, market_time) = getMarketMetadata(df)\n",
    "            \n",
    "            print('RUNNER 1', runner1)\n",
    "            print('RUNNER 2', runner2)\n",
    "            print('EVENT 1', event_id)\n",
    "            print(\"EVENT NAME\",event_name)\n",
    "            print(\"MARKET TIME\", market_time)\n",
    "            \n",
    "            (parsedData, inPlayTime, inPlayTimeIndex) = parseData(df)\n",
    "            \n",
    "            if parsedData.empty:\n",
    "                print(\"file ignored: \", filepath)\n",
    "                continue\n",
    "                \n",
    "            for team in team_list:\n",
    "                if (runner1['name'] == team) or (runner2['name'] == team):\n",
    "                    if type(team_paths_dict[team]) != str:\n",
    "                        parsedData['Game_#'] = team_paths_dict[team]['Game_#'].max() + 1\n",
    "                        team_paths_dict[team] = team_paths_dict[team].append(parsedData, ignore_index = True)\n",
    "                    else:\n",
    "                        parsedData['Game_#'] = 1\n",
    "                        team_paths_dict[team] = parsedData"
   ]
  },
  {
   "cell_type": "code",
   "execution_count": 5,
   "id": "6e731e3b",
   "metadata": {},
   "outputs": [
    {
     "ename": "AttributeError",
     "evalue": "'str' object has no attribute 'first_valid_index'",
     "output_type": "error",
     "traceback": [
      "\u001b[1;31m---------------------------------------------------------------------------\u001b[0m",
      "\u001b[1;31mAttributeError\u001b[0m                            Traceback (most recent call last)",
      "\u001b[1;32m<ipython-input-5-24715e0dcd2b>\u001b[0m in \u001b[0;36m<module>\u001b[1;34m\u001b[0m\n\u001b[1;32m----> 1\u001b[1;33m \u001b[0mfirst\u001b[0m \u001b[1;33m=\u001b[0m \u001b[0mteam_paths_dict\u001b[0m\u001b[1;33m[\u001b[0m\u001b[1;34m'Dominic Thiem'\u001b[0m\u001b[1;33m]\u001b[0m\u001b[1;33m.\u001b[0m\u001b[0mfirst_valid_index\u001b[0m\u001b[1;33m(\u001b[0m\u001b[1;33m)\u001b[0m\u001b[1;33m\u001b[0m\u001b[1;33m\u001b[0m\u001b[0m\n\u001b[0m\u001b[0;32m      2\u001b[0m \u001b[0mlast\u001b[0m\u001b[1;33m=\u001b[0m \u001b[0mteam_paths_dict\u001b[0m\u001b[1;33m[\u001b[0m\u001b[1;34m'Dominic Thiem'\u001b[0m\u001b[1;33m]\u001b[0m\u001b[1;33m.\u001b[0m\u001b[0mindex\u001b[0m\u001b[1;33m[\u001b[0m\u001b[1;36m100\u001b[0m\u001b[1;33m]\u001b[0m\u001b[1;33m\u001b[0m\u001b[1;33m\u001b[0m\u001b[0m\n\u001b[0;32m      3\u001b[0m \u001b[0mlast2\u001b[0m\u001b[1;33m=\u001b[0m \u001b[0mteam_paths_dict\u001b[0m\u001b[1;33m[\u001b[0m\u001b[1;34m'Dominic Thiem'\u001b[0m\u001b[1;33m]\u001b[0m\u001b[1;33m.\u001b[0m\u001b[0mlast_valid_index\u001b[0m\u001b[1;33m(\u001b[0m\u001b[1;33m)\u001b[0m\u001b[1;33m\u001b[0m\u001b[1;33m\u001b[0m\u001b[0m\n\u001b[0;32m      4\u001b[0m \u001b[1;33m\u001b[0m\u001b[0m\n\u001b[0;32m      5\u001b[0m \u001b[0mteam_paths_dict\u001b[0m\u001b[1;33m[\u001b[0m\u001b[1;34m'Dominic Thiem'\u001b[0m\u001b[1;33m]\u001b[0m\u001b[1;33m\u001b[0m\u001b[1;33m\u001b[0m\u001b[0m\n",
      "\u001b[1;31mAttributeError\u001b[0m: 'str' object has no attribute 'first_valid_index'"
     ]
    }
   ],
   "source": [
    "first = team_paths_dict['Dominic Thiem'].first_valid_index()\n",
    "last= team_paths_dict['Dominic Thiem'].index[100]\n",
    "last2= team_paths_dict['Dominic Thiem'].last_valid_index()\n",
    "\n",
    "team_paths_dict['Dominic Thiem']"
   ]
  },
  {
   "cell_type": "code",
   "execution_count": 6,
   "id": "a010a7e8",
   "metadata": {},
   "outputs": [
    {
     "ename": "AttributeError",
     "evalue": "'str' object has no attribute 'set_index'",
     "output_type": "error",
     "traceback": [
      "\u001b[1;31m---------------------------------------------------------------------------\u001b[0m",
      "\u001b[1;31mAttributeError\u001b[0m                            Traceback (most recent call last)",
      "\u001b[1;32m<ipython-input-6-d553781737d7>\u001b[0m in \u001b[0;36m<module>\u001b[1;34m\u001b[0m\n\u001b[1;32m----> 1\u001b[1;33m \u001b[0mcurrentPlayer\u001b[0m \u001b[1;33m=\u001b[0m \u001b[0mteam_paths_dict\u001b[0m\u001b[1;33m[\u001b[0m\u001b[1;34m'Dominic Thiem'\u001b[0m\u001b[1;33m]\u001b[0m\u001b[1;33m.\u001b[0m\u001b[0mset_index\u001b[0m\u001b[1;33m(\u001b[0m\u001b[1;34m'pt'\u001b[0m\u001b[1;33m)\u001b[0m\u001b[1;33m\u001b[0m\u001b[1;33m\u001b[0m\u001b[0m\n\u001b[0m\u001b[0;32m      2\u001b[0m \u001b[0mgetAvgTimeToVolume\u001b[0m\u001b[1;33m(\u001b[0m\u001b[0mcurrentPlayer\u001b[0m\u001b[1;33m,\u001b[0m \u001b[1;36m0.1\u001b[0m\u001b[1;33m)\u001b[0m\u001b[1;33m\u001b[0m\u001b[1;33m\u001b[0m\u001b[0m\n",
      "\u001b[1;31mAttributeError\u001b[0m: 'str' object has no attribute 'set_index'"
     ]
    }
   ],
   "source": [
    "currentPlayer = team_paths_dict['Dominic Thiem'].set_index('pt')\n",
    "getAvgTimeToVolume(currentPlayer, 0.1)"
   ]
  },
  {
   "cell_type": "code",
   "execution_count": 7,
   "id": "03f49b19",
   "metadata": {},
   "outputs": [
    {
     "name": "stdout",
     "output_type": "stream",
     "text": [
      "Analyzing file C:\\Users\\WilsonYeung.AzureAD\\ADVANCED_test\\Jan\\31\\29676224\\1.168065827\n"
     ]
    },
    {
     "ename": "ValueError",
     "evalue": "Expected object or value",
     "output_type": "error",
     "traceback": [
      "\u001b[1;31m---------------------------------------------------------------------------\u001b[0m",
      "\u001b[1;31mValueError\u001b[0m                                Traceback (most recent call last)",
      "\u001b[1;32m<ipython-input-7-8f843c7c42e8>\u001b[0m in \u001b[0;36m<module>\u001b[1;34m\u001b[0m\n\u001b[0;32m     10\u001b[0m \u001b[0mprint\u001b[0m\u001b[1;33m(\u001b[0m\u001b[1;34m'Analyzing file'\u001b[0m\u001b[1;33m,\u001b[0m \u001b[0mfile_path\u001b[0m\u001b[1;33m)\u001b[0m\u001b[1;33m\u001b[0m\u001b[1;33m\u001b[0m\u001b[0m\n\u001b[0;32m     11\u001b[0m \u001b[1;33m\u001b[0m\u001b[0m\n\u001b[1;32m---> 12\u001b[1;33m \u001b[0mdf\u001b[0m \u001b[1;33m=\u001b[0m \u001b[0mpd\u001b[0m\u001b[1;33m.\u001b[0m\u001b[0mread_json\u001b[0m\u001b[1;33m(\u001b[0m\u001b[0mfile_path\u001b[0m\u001b[1;33m,\u001b[0m \u001b[0mlines\u001b[0m\u001b[1;33m=\u001b[0m\u001b[1;32mTrue\u001b[0m\u001b[1;33m)\u001b[0m\u001b[1;33m\u001b[0m\u001b[1;33m\u001b[0m\u001b[0m\n\u001b[0m\u001b[0;32m     13\u001b[0m \u001b[0mmarket_metadata\u001b[0m \u001b[1;33m=\u001b[0m \u001b[0mgetMarketMetadata\u001b[0m\u001b[1;33m(\u001b[0m\u001b[0mdf\u001b[0m\u001b[1;33m)\u001b[0m\u001b[1;33m\u001b[0m\u001b[1;33m\u001b[0m\u001b[0m\n\u001b[0;32m     14\u001b[0m \u001b[1;33m(\u001b[0m\u001b[0mrunner1\u001b[0m\u001b[1;33m,\u001b[0m \u001b[0mrunner2\u001b[0m\u001b[1;33m,\u001b[0m \u001b[0mevent_name\u001b[0m\u001b[1;33m,\u001b[0m \u001b[0mevent_id\u001b[0m\u001b[1;33m,\u001b[0m \u001b[0mmarket_time\u001b[0m\u001b[1;33m)\u001b[0m \u001b[1;33m=\u001b[0m \u001b[0mmarket_metadata\u001b[0m\u001b[1;33m\u001b[0m\u001b[1;33m\u001b[0m\u001b[0m\n",
      "\u001b[1;32m~\\anaconda3\\lib\\site-packages\\pandas\\util\\_decorators.py\u001b[0m in \u001b[0;36mwrapper\u001b[1;34m(*args, **kwargs)\u001b[0m\n\u001b[0;32m    197\u001b[0m                 \u001b[1;32melse\u001b[0m\u001b[1;33m:\u001b[0m\u001b[1;33m\u001b[0m\u001b[1;33m\u001b[0m\u001b[0m\n\u001b[0;32m    198\u001b[0m                     \u001b[0mkwargs\u001b[0m\u001b[1;33m[\u001b[0m\u001b[0mnew_arg_name\u001b[0m\u001b[1;33m]\u001b[0m \u001b[1;33m=\u001b[0m \u001b[0mnew_arg_value\u001b[0m\u001b[1;33m\u001b[0m\u001b[1;33m\u001b[0m\u001b[0m\n\u001b[1;32m--> 199\u001b[1;33m             \u001b[1;32mreturn\u001b[0m \u001b[0mfunc\u001b[0m\u001b[1;33m(\u001b[0m\u001b[1;33m*\u001b[0m\u001b[0margs\u001b[0m\u001b[1;33m,\u001b[0m \u001b[1;33m**\u001b[0m\u001b[0mkwargs\u001b[0m\u001b[1;33m)\u001b[0m\u001b[1;33m\u001b[0m\u001b[1;33m\u001b[0m\u001b[0m\n\u001b[0m\u001b[0;32m    200\u001b[0m \u001b[1;33m\u001b[0m\u001b[0m\n\u001b[0;32m    201\u001b[0m         \u001b[1;32mreturn\u001b[0m \u001b[0mcast\u001b[0m\u001b[1;33m(\u001b[0m\u001b[0mF\u001b[0m\u001b[1;33m,\u001b[0m \u001b[0mwrapper\u001b[0m\u001b[1;33m)\u001b[0m\u001b[1;33m\u001b[0m\u001b[1;33m\u001b[0m\u001b[0m\n",
      "\u001b[1;32m~\\anaconda3\\lib\\site-packages\\pandas\\util\\_decorators.py\u001b[0m in \u001b[0;36mwrapper\u001b[1;34m(*args, **kwargs)\u001b[0m\n\u001b[0;32m    297\u001b[0m                 )\n\u001b[0;32m    298\u001b[0m                 \u001b[0mwarnings\u001b[0m\u001b[1;33m.\u001b[0m\u001b[0mwarn\u001b[0m\u001b[1;33m(\u001b[0m\u001b[0mmsg\u001b[0m\u001b[1;33m,\u001b[0m \u001b[0mFutureWarning\u001b[0m\u001b[1;33m,\u001b[0m \u001b[0mstacklevel\u001b[0m\u001b[1;33m=\u001b[0m\u001b[0mstacklevel\u001b[0m\u001b[1;33m)\u001b[0m\u001b[1;33m\u001b[0m\u001b[1;33m\u001b[0m\u001b[0m\n\u001b[1;32m--> 299\u001b[1;33m             \u001b[1;32mreturn\u001b[0m \u001b[0mfunc\u001b[0m\u001b[1;33m(\u001b[0m\u001b[1;33m*\u001b[0m\u001b[0margs\u001b[0m\u001b[1;33m,\u001b[0m \u001b[1;33m**\u001b[0m\u001b[0mkwargs\u001b[0m\u001b[1;33m)\u001b[0m\u001b[1;33m\u001b[0m\u001b[1;33m\u001b[0m\u001b[0m\n\u001b[0m\u001b[0;32m    300\u001b[0m \u001b[1;33m\u001b[0m\u001b[0m\n\u001b[0;32m    301\u001b[0m         \u001b[1;32mreturn\u001b[0m \u001b[0mwrapper\u001b[0m\u001b[1;33m\u001b[0m\u001b[1;33m\u001b[0m\u001b[0m\n",
      "\u001b[1;32m~\\anaconda3\\lib\\site-packages\\pandas\\io\\json\\_json.py\u001b[0m in \u001b[0;36mread_json\u001b[1;34m(path_or_buf, orient, typ, dtype, convert_axes, convert_dates, keep_default_dates, numpy, precise_float, date_unit, encoding, lines, chunksize, compression, nrows, storage_options)\u001b[0m\n\u001b[0;32m    561\u001b[0m \u001b[1;33m\u001b[0m\u001b[0m\n\u001b[0;32m    562\u001b[0m     \u001b[1;32mwith\u001b[0m \u001b[0mjson_reader\u001b[0m\u001b[1;33m:\u001b[0m\u001b[1;33m\u001b[0m\u001b[1;33m\u001b[0m\u001b[0m\n\u001b[1;32m--> 563\u001b[1;33m         \u001b[1;32mreturn\u001b[0m \u001b[0mjson_reader\u001b[0m\u001b[1;33m.\u001b[0m\u001b[0mread\u001b[0m\u001b[1;33m(\u001b[0m\u001b[1;33m)\u001b[0m\u001b[1;33m\u001b[0m\u001b[1;33m\u001b[0m\u001b[0m\n\u001b[0m\u001b[0;32m    564\u001b[0m \u001b[1;33m\u001b[0m\u001b[0m\n\u001b[0;32m    565\u001b[0m \u001b[1;33m\u001b[0m\u001b[0m\n",
      "\u001b[1;32m~\\anaconda3\\lib\\site-packages\\pandas\\io\\json\\_json.py\u001b[0m in \u001b[0;36mread\u001b[1;34m(self)\u001b[0m\n\u001b[0;32m    690\u001b[0m                 \u001b[0mdata\u001b[0m \u001b[1;33m=\u001b[0m \u001b[0mensure_str\u001b[0m\u001b[1;33m(\u001b[0m\u001b[0mself\u001b[0m\u001b[1;33m.\u001b[0m\u001b[0mdata\u001b[0m\u001b[1;33m)\u001b[0m\u001b[1;33m\u001b[0m\u001b[1;33m\u001b[0m\u001b[0m\n\u001b[0;32m    691\u001b[0m                 \u001b[0mdata_lines\u001b[0m \u001b[1;33m=\u001b[0m \u001b[0mdata\u001b[0m\u001b[1;33m.\u001b[0m\u001b[0msplit\u001b[0m\u001b[1;33m(\u001b[0m\u001b[1;34m\"\\n\"\u001b[0m\u001b[1;33m)\u001b[0m\u001b[1;33m\u001b[0m\u001b[1;33m\u001b[0m\u001b[0m\n\u001b[1;32m--> 692\u001b[1;33m                 \u001b[0mobj\u001b[0m \u001b[1;33m=\u001b[0m \u001b[0mself\u001b[0m\u001b[1;33m.\u001b[0m\u001b[0m_get_object_parser\u001b[0m\u001b[1;33m(\u001b[0m\u001b[0mself\u001b[0m\u001b[1;33m.\u001b[0m\u001b[0m_combine_lines\u001b[0m\u001b[1;33m(\u001b[0m\u001b[0mdata_lines\u001b[0m\u001b[1;33m)\u001b[0m\u001b[1;33m)\u001b[0m\u001b[1;33m\u001b[0m\u001b[1;33m\u001b[0m\u001b[0m\n\u001b[0m\u001b[0;32m    693\u001b[0m         \u001b[1;32melse\u001b[0m\u001b[1;33m:\u001b[0m\u001b[1;33m\u001b[0m\u001b[1;33m\u001b[0m\u001b[0m\n\u001b[0;32m    694\u001b[0m             \u001b[0mobj\u001b[0m \u001b[1;33m=\u001b[0m \u001b[0mself\u001b[0m\u001b[1;33m.\u001b[0m\u001b[0m_get_object_parser\u001b[0m\u001b[1;33m(\u001b[0m\u001b[0mself\u001b[0m\u001b[1;33m.\u001b[0m\u001b[0mdata\u001b[0m\u001b[1;33m)\u001b[0m\u001b[1;33m\u001b[0m\u001b[1;33m\u001b[0m\u001b[0m\n",
      "\u001b[1;32m~\\anaconda3\\lib\\site-packages\\pandas\\io\\json\\_json.py\u001b[0m in \u001b[0;36m_get_object_parser\u001b[1;34m(self, json)\u001b[0m\n\u001b[0;32m    714\u001b[0m         \u001b[0mobj\u001b[0m \u001b[1;33m=\u001b[0m \u001b[1;32mNone\u001b[0m\u001b[1;33m\u001b[0m\u001b[1;33m\u001b[0m\u001b[0m\n\u001b[0;32m    715\u001b[0m         \u001b[1;32mif\u001b[0m \u001b[0mtyp\u001b[0m \u001b[1;33m==\u001b[0m \u001b[1;34m\"frame\"\u001b[0m\u001b[1;33m:\u001b[0m\u001b[1;33m\u001b[0m\u001b[1;33m\u001b[0m\u001b[0m\n\u001b[1;32m--> 716\u001b[1;33m             \u001b[0mobj\u001b[0m \u001b[1;33m=\u001b[0m \u001b[0mFrameParser\u001b[0m\u001b[1;33m(\u001b[0m\u001b[0mjson\u001b[0m\u001b[1;33m,\u001b[0m \u001b[1;33m**\u001b[0m\u001b[0mkwargs\u001b[0m\u001b[1;33m)\u001b[0m\u001b[1;33m.\u001b[0m\u001b[0mparse\u001b[0m\u001b[1;33m(\u001b[0m\u001b[1;33m)\u001b[0m\u001b[1;33m\u001b[0m\u001b[1;33m\u001b[0m\u001b[0m\n\u001b[0m\u001b[0;32m    717\u001b[0m \u001b[1;33m\u001b[0m\u001b[0m\n\u001b[0;32m    718\u001b[0m         \u001b[1;32mif\u001b[0m \u001b[0mtyp\u001b[0m \u001b[1;33m==\u001b[0m \u001b[1;34m\"series\"\u001b[0m \u001b[1;32mor\u001b[0m \u001b[0mobj\u001b[0m \u001b[1;32mis\u001b[0m \u001b[1;32mNone\u001b[0m\u001b[1;33m:\u001b[0m\u001b[1;33m\u001b[0m\u001b[1;33m\u001b[0m\u001b[0m\n",
      "\u001b[1;32m~\\anaconda3\\lib\\site-packages\\pandas\\io\\json\\_json.py\u001b[0m in \u001b[0;36mparse\u001b[1;34m(self)\u001b[0m\n\u001b[0;32m    829\u001b[0m \u001b[1;33m\u001b[0m\u001b[0m\n\u001b[0;32m    830\u001b[0m         \u001b[1;32melse\u001b[0m\u001b[1;33m:\u001b[0m\u001b[1;33m\u001b[0m\u001b[1;33m\u001b[0m\u001b[0m\n\u001b[1;32m--> 831\u001b[1;33m             \u001b[0mself\u001b[0m\u001b[1;33m.\u001b[0m\u001b[0m_parse_no_numpy\u001b[0m\u001b[1;33m(\u001b[0m\u001b[1;33m)\u001b[0m\u001b[1;33m\u001b[0m\u001b[1;33m\u001b[0m\u001b[0m\n\u001b[0m\u001b[0;32m    832\u001b[0m \u001b[1;33m\u001b[0m\u001b[0m\n\u001b[0;32m    833\u001b[0m         \u001b[1;32mif\u001b[0m \u001b[0mself\u001b[0m\u001b[1;33m.\u001b[0m\u001b[0mobj\u001b[0m \u001b[1;32mis\u001b[0m \u001b[1;32mNone\u001b[0m\u001b[1;33m:\u001b[0m\u001b[1;33m\u001b[0m\u001b[1;33m\u001b[0m\u001b[0m\n",
      "\u001b[1;32m~\\anaconda3\\lib\\site-packages\\pandas\\io\\json\\_json.py\u001b[0m in \u001b[0;36m_parse_no_numpy\u001b[1;34m(self)\u001b[0m\n\u001b[0;32m   1077\u001b[0m         \u001b[1;32mif\u001b[0m \u001b[0morient\u001b[0m \u001b[1;33m==\u001b[0m \u001b[1;34m\"columns\"\u001b[0m\u001b[1;33m:\u001b[0m\u001b[1;33m\u001b[0m\u001b[1;33m\u001b[0m\u001b[0m\n\u001b[0;32m   1078\u001b[0m             self.obj = DataFrame(\n\u001b[1;32m-> 1079\u001b[1;33m                 \u001b[0mloads\u001b[0m\u001b[1;33m(\u001b[0m\u001b[0mjson\u001b[0m\u001b[1;33m,\u001b[0m \u001b[0mprecise_float\u001b[0m\u001b[1;33m=\u001b[0m\u001b[0mself\u001b[0m\u001b[1;33m.\u001b[0m\u001b[0mprecise_float\u001b[0m\u001b[1;33m)\u001b[0m\u001b[1;33m,\u001b[0m \u001b[0mdtype\u001b[0m\u001b[1;33m=\u001b[0m\u001b[1;32mNone\u001b[0m\u001b[1;33m\u001b[0m\u001b[1;33m\u001b[0m\u001b[0m\n\u001b[0m\u001b[0;32m   1080\u001b[0m             )\n\u001b[0;32m   1081\u001b[0m         \u001b[1;32melif\u001b[0m \u001b[0morient\u001b[0m \u001b[1;33m==\u001b[0m \u001b[1;34m\"split\"\u001b[0m\u001b[1;33m:\u001b[0m\u001b[1;33m\u001b[0m\u001b[1;33m\u001b[0m\u001b[0m\n",
      "\u001b[1;31mValueError\u001b[0m: Expected object or value"
     ]
    }
   ],
   "source": [
    "# For windows\n",
    "# file_path = r'/Users/miguel/Documents/code/betting/Betfair-Dragoon/ADVANCED_test/Jan/31/29676224/1.168065827'\n",
    "\n",
    "# Get current Directory\n",
    "current_dir = os.getcwd()\n",
    "\n",
    "# Use this if you want to look into specific file - replace each string with a directory folder\n",
    "# This allows the path to work for both windows, mac and linux\n",
    "file_path = os.path.join(current_dir, 'ADVANCED_test','Jan','31','29676224','1.168065827')\n",
    "print('Analyzing file', file_path)\n",
    "\n",
    "df = pd.read_json(file_path, lines=True)\n",
    "market_metadata = getMarketMetadata(df)\n",
    "(runner1, runner2, event_name, event_id, market_time) = market_metadata\n",
    "print('RUNNER 1', runner1)\n",
    "print('RUNNER 2', runner2)\n",
    "print('EVENT 1', event_id)\n",
    "print(\"EVENT NAME\",event_name)\n",
    "print(\"MARKET TIME\", market_time)\n",
    "\n",
    "parsedData, inPlayTime, inPlayTimeIndex = parseData(df)\n",
    "\n",
    "\n",
    "print(\"IN PLAY TIME\", inPlayTime)\n",
    "eighteen_h_ago = subtract_18H(inPlayTime)\n",
    "print('IN PLAY INDEX', inPlayTimeIndex)\n",
    "print(\"18H before\", eighteen_h_ago)"
   ]
  },
  {
   "cell_type": "code",
   "execution_count": 8,
   "id": "408067fd",
   "metadata": {},
   "outputs": [
    {
     "ename": "SyntaxError",
     "evalue": "EOL while scanning string literal (<ipython-input-8-29a059f9fc79>, line 12)",
     "output_type": "error",
     "traceback": [
      "\u001b[1;36m  File \u001b[1;32m\"<ipython-input-8-29a059f9fc79>\"\u001b[1;36m, line \u001b[1;32m12\u001b[0m\n\u001b[1;33m    reindexed[ (reindexed[f\"tv_diff_{runner1['name']}\"] != 0.0) & (reindexed[f\"tv_d\u001b[0m\n\u001b[1;37m                                                                                   ^\u001b[0m\n\u001b[1;31mSyntaxError\u001b[0m\u001b[1;31m:\u001b[0m EOL while scanning string literal\n"
     ]
    }
   ],
   "source": [
    "pd.set_option('display.max_rows', 10000)\n",
    "\n",
    "# Compute the differences between rows\n",
    "diff = parsedData.diff()\n",
    "\n",
    "parsedData[f\"tv_diff_{runner1['name']}\"] = diff[f\"tv_{runner1['name']}\"]\n",
    "parsedData[f\"tv_diff_{runner2['name']}\"] = diff[f\"tv_{runner2['name']}\"]\n",
    "\n",
    "# Changed the order of columns\n",
    "reindexed = parsedData[['pt', f\"ltp_{runner1['name']}\", f\"tv_{runner1['name']}\", f\"tv_diff_{runner1['name']}\", f\"ltp_{runner2['name']}\", f\"tv_{runner2['name']}\", f\"tv_diff_{runner2['name']}\"]]\n",
    "\n",
    "reindexed[ (reindexed[f\"tv_diff_{runner1['name']}\"] != 0.0) & (reindexed[f\"tv_d"
   ]
  },
  {
   "cell_type": "code",
   "execution_count": 9,
   "id": "74c4f78a",
   "metadata": {},
   "outputs": [
    {
     "ename": "NameError",
     "evalue": "name 'reindexed' is not defined",
     "output_type": "error",
     "traceback": [
      "\u001b[1;31m---------------------------------------------------------------------------\u001b[0m",
      "\u001b[1;31mNameError\u001b[0m                                 Traceback (most recent call last)",
      "\u001b[1;32m<ipython-input-9-18bc2d3879ad>\u001b[0m in \u001b[0;36m<module>\u001b[1;34m\u001b[0m\n\u001b[1;32m----> 1\u001b[1;33m \u001b[0mdf_to_plot\u001b[0m \u001b[1;33m=\u001b[0m \u001b[0mreindexed\u001b[0m\u001b[1;33m.\u001b[0m\u001b[0mset_index\u001b[0m\u001b[1;33m(\u001b[0m\u001b[1;34m'pt'\u001b[0m\u001b[1;33m)\u001b[0m\u001b[1;33m\u001b[0m\u001b[1;33m\u001b[0m\u001b[0m\n\u001b[0m\u001b[0;32m      2\u001b[0m \u001b[1;33m\u001b[0m\u001b[0m\n\u001b[0;32m      3\u001b[0m \u001b[1;33m\u001b[0m\u001b[0m\n\u001b[0;32m      4\u001b[0m \u001b[0mfig\u001b[0m\u001b[1;33m,\u001b[0m \u001b[0maxes\u001b[0m \u001b[1;33m=\u001b[0m \u001b[0mplt\u001b[0m\u001b[1;33m.\u001b[0m\u001b[0msubplots\u001b[0m\u001b[1;33m(\u001b[0m\u001b[1;36m2\u001b[0m\u001b[1;33m,\u001b[0m \u001b[1;36m1\u001b[0m\u001b[1;33m,\u001b[0m \u001b[0mfigsize\u001b[0m\u001b[1;33m=\u001b[0m\u001b[1;33m(\u001b[0m\u001b[1;36m16\u001b[0m\u001b[1;33m,\u001b[0m\u001b[1;36m16\u001b[0m\u001b[1;33m)\u001b[0m\u001b[1;33m)\u001b[0m\u001b[1;33m\u001b[0m\u001b[1;33m\u001b[0m\u001b[0m\n\u001b[0;32m      5\u001b[0m \u001b[1;33m\u001b[0m\u001b[0m\n",
      "\u001b[1;31mNameError\u001b[0m: name 'reindexed' is not defined"
     ]
    }
   ],
   "source": [
    "df_to_plot = reindexed.set_index('pt')\n",
    "\n",
    "\n",
    "fig, axes = plt.subplots(2, 1, figsize=(16,16))\n",
    "\n",
    "# default grid appearance\n",
    "axes[0].plot(df_to_plot.index,df_to_plot[f\"ltp_{runner1['name']}\"], lw=2)\n",
    "axes[0].grid(True)\n",
    "axes[0].yaxis.set_major_formatter(FormatStrFormatter('%.2f'))\n",
    "\n",
    "\n",
    "ax_player1 = axes[0].twinx()  # instantiate a second axes that shares the same x-axis\n",
    "\n",
    "color = 'tab:red'\n",
    "ax_player1.set_ylabel('Volume Traded', color=color)  # we already handled the x-label with ax1\n",
    "ax_player1.plot(df_to_plot.index,df_to_plot[f\"tv_{runner1['name']}\"], color=color)\n",
    "ax_player1.set_title(f\"{runner1['name']}\")\n",
    "ax_player1.tick_params(axis='y', labelcolor=color)\n",
    "ax_player1.axvline(x=inPlayTime, ymin=0, ymax=1, color='tab:purple')\n",
    "ax_player1.axvline(x=eighteen_h_ago, ymin=0, ymax=1, color='tab:purple')\n",
    "\n",
    "# custom grid appearance\n",
    "axes[1].plot(df_to_plot.index,df_to_plot[f\"ltp_{runner2['name']}\"], color='r', lw=2)\n",
    "axes[1].grid(True)\n",
    "axes[1].yaxis.set_major_formatter(FormatStrFormatter('%.2f'))\n",
    "\n",
    "ax_player2 = axes[1].twinx()  \n",
    "\n",
    "color = 'tab:green'\n",
    "ax_player2.set_ylabel('Volume Traded', color=color)  \n",
    "ax_player2.plot(df_to_plot.index,df_to_plot[f\"tv_{runner2['name']}\"], color=color)\n",
    "ax_player2.set_title(f\"{runner2['name']}\")\n",
    "ax_player2.tick_params(axis='y', labelcolor=color)\n",
    "ax_player2.axvline(x=inPlayTime, ymin=0, ymax=1, color='tab:purple')\n",
    "ax_player2.axvline(x=eighteen_h_ago, ymin=0, ymax=1, color='tab:purple')"
   ]
  },
  {
   "cell_type": "code",
   "execution_count": 10,
   "id": "f93c4300",
   "metadata": {},
   "outputs": [
    {
     "ename": "NameError",
     "evalue": "name 'df_to_plot' is not defined",
     "output_type": "error",
     "traceback": [
      "\u001b[1;31m---------------------------------------------------------------------------\u001b[0m",
      "\u001b[1;31mNameError\u001b[0m                                 Traceback (most recent call last)",
      "\u001b[1;32m<ipython-input-10-e3aa4289d067>\u001b[0m in \u001b[0;36m<module>\u001b[1;34m\u001b[0m\n\u001b[0;32m      1\u001b[0m \u001b[1;31m# Plot the 18h prior to in-play\u001b[0m\u001b[1;33m\u001b[0m\u001b[1;33m\u001b[0m\u001b[1;33m\u001b[0m\u001b[0m\n\u001b[1;32m----> 2\u001b[1;33m \u001b[0mdf_18h_plot\u001b[0m \u001b[1;33m=\u001b[0m \u001b[0mdf_to_plot\u001b[0m\u001b[1;33m[\u001b[0m\u001b[0mdf_to_plot\u001b[0m\u001b[1;33m.\u001b[0m\u001b[0mindex\u001b[0m \u001b[1;33m>=\u001b[0m \u001b[0meighteen_h_ago\u001b[0m\u001b[1;33m]\u001b[0m\u001b[1;33m\u001b[0m\u001b[1;33m\u001b[0m\u001b[0m\n\u001b[0m\u001b[0;32m      3\u001b[0m \u001b[1;33m\u001b[0m\u001b[0m\n\u001b[0;32m      4\u001b[0m \u001b[0mfig\u001b[0m\u001b[1;33m,\u001b[0m \u001b[0maxes\u001b[0m \u001b[1;33m=\u001b[0m \u001b[0mplt\u001b[0m\u001b[1;33m.\u001b[0m\u001b[0msubplots\u001b[0m\u001b[1;33m(\u001b[0m\u001b[1;36m2\u001b[0m\u001b[1;33m,\u001b[0m \u001b[1;36m1\u001b[0m\u001b[1;33m,\u001b[0m \u001b[0mfigsize\u001b[0m\u001b[1;33m=\u001b[0m\u001b[1;33m(\u001b[0m\u001b[1;36m32\u001b[0m\u001b[1;33m,\u001b[0m\u001b[1;36m32\u001b[0m\u001b[1;33m)\u001b[0m\u001b[1;33m)\u001b[0m\u001b[1;33m\u001b[0m\u001b[1;33m\u001b[0m\u001b[0m\n\u001b[0;32m      5\u001b[0m \u001b[1;33m\u001b[0m\u001b[0m\n",
      "\u001b[1;31mNameError\u001b[0m: name 'df_to_plot' is not defined"
     ]
    }
   ],
   "source": [
    "# Plot the 18h prior to in-play\n",
    "df_18h_plot = df_to_plot[df_to_plot.index >= eighteen_h_ago]\n",
    "\n",
    "fig, axes = plt.subplots(2, 1, figsize=(32,32))\n",
    "\n",
    "# default grid appearance\n",
    "axes[0].plot(df_18h_plot.index,df_18h_plot[f\"ltp_{runner1['name']}\"], lw=2)\n",
    "axes[0].grid(True)\n",
    "axes[0].yaxis.set_major_formatter(FormatStrFormatter('%.2f'))\n",
    "\n",
    "\n",
    "ax_player1 = axes[0].twinx()  # instantiate a second axes that shares the same x-axis\n",
    "\n",
    "color = 'tab:red'\n",
    "ax_player1.set_ylabel('Volume Traded', color=color)  # we already handled the x-label with ax1\n",
    "ax_player1.plot(df_18h_plot.index,df_18h_plot[f\"tv_{runner1['name']}\"], color=color)\n",
    "ax_player1.set_title(f\"{runner1['name']}\")\n",
    "ax_player1.tick_params(axis='y', labelcolor=color)\n",
    "\n",
    "# custom grid appearance\n",
    "axes[1].plot(df_18h_plot.index,df_18h_plot[f\"ltp_{runner2['name']}\"], color='r', lw=2)\n",
    "axes[1].grid(True)\n",
    "axes[1].yaxis.set_major_formatter(FormatStrFormatter('%.2f'))\n",
    "\n",
    "ax_player2 = axes[1].twinx()  \n",
    "\n",
    "color = 'tab:green'\n",
    "ax_player2.set_ylabel('Volume Traded', color=color)  \n",
    "ax_player2.plot(df_18h_plot.index,df_18h_plot[f\"tv_{runner2['name']}\"], color=color)\n",
    "ax_player2.set_title(f\"{runner2['name']}\")\n",
    "ax_player2.tick_params(axis='y', labelcolor=color)"
   ]
  },
  {
   "cell_type": "code",
   "execution_count": 11,
   "id": "12a5b0d4",
   "metadata": {},
   "outputs": [
    {
     "ename": "NameError",
     "evalue": "name 'df_to_plot' is not defined",
     "output_type": "error",
     "traceback": [
      "\u001b[1;31m---------------------------------------------------------------------------\u001b[0m",
      "\u001b[1;31mNameError\u001b[0m                                 Traceback (most recent call last)",
      "\u001b[1;32m<ipython-input-11-971fc0af9cbf>\u001b[0m in \u001b[0;36m<module>\u001b[1;34m\u001b[0m\n\u001b[1;32m----> 1\u001b[1;33m \u001b[0mdf_to_plot\u001b[0m\u001b[1;33m.\u001b[0m\u001b[0mcount\u001b[0m\u001b[1;33m(\u001b[0m\u001b[1;33m)\u001b[0m\u001b[1;33m\u001b[0m\u001b[1;33m\u001b[0m\u001b[0m\n\u001b[0m",
      "\u001b[1;31mNameError\u001b[0m: name 'df_to_plot' is not defined"
     ]
    }
   ],
   "source": [
    "df_to_plot.count()"
   ]
  },
  {
   "cell_type": "code",
   "execution_count": null,
   "id": "885c2bda",
   "metadata": {},
   "outputs": [],
   "source": []
  }
 ],
 "metadata": {
  "kernelspec": {
   "display_name": "Python 3",
   "language": "python",
   "name": "python3"
  },
  "language_info": {
   "codemirror_mode": {
    "name": "ipython",
    "version": 3
   },
   "file_extension": ".py",
   "mimetype": "text/x-python",
   "name": "python",
   "nbconvert_exporter": "python",
   "pygments_lexer": "ipython3",
   "version": "3.8.8"
  }
 },
 "nbformat": 4,
 "nbformat_minor": 5
}
